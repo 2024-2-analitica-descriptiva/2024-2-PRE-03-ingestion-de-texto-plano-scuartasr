{
 "cells": [
  {
   "cell_type": "code",
   "execution_count": 1,
   "metadata": {},
   "outputs": [
    {
     "name": "stdout",
     "output_type": "stream",
     "text": [
      "hola mundo\n"
     ]
    }
   ],
   "source": [
    "print('hola mundo')"
   ]
  },
  {
   "cell_type": "code",
   "execution_count": 2,
   "metadata": {},
   "outputs": [],
   "source": [
    "import pandas as pd\n",
    "direccion = '../files/input/clusters_report.txt'"
   ]
  },
  {
   "cell_type": "code",
   "execution_count": 3,
   "metadata": {},
   "outputs": [],
   "source": [
    "# Abre el archivo en modo lectura\n",
    "with open(direccion, 'r') as file:\n",
    "    lines = file.readlines()"
   ]
  },
  {
   "cell_type": "code",
   "execution_count": null,
   "metadata": {},
   "outputs": [],
   "source": [
    "# Lista para almacenar los datos procesados\n",
    "data = []\n",
    "\n",
    "# Variables para almacenar los datos de cada fila\n",
    "cluster = None\n",
    "cantidad = None\n",
    "porcentaje = None\n",
    "palabras_clave = []\n",
    "\n",
    "# Procesar cada línea del archivo, comenzando desde la tercera línea\n",
    "for line in lines[1:]:  # Saltamos la línea de separación\n",
    "    line = line.strip()  # Eliminar espacios en blanco innecesarios\n",
    "    \n",
    "    if line.startswith(str(len(data) + 1)):  # Si la línea empieza con el número del cluster\n",
    "        # Si ya había datos almacenados, agregar la fila anterior\n",
    "        if palabras_clave:\n",
    "            data.append([cluster, cantidad, porcentaje, ' '.join(palabras_clave)])  # Usar lista para las filas\n",
    "            palabras_clave = []  # Limpiar palabras clave para la siguiente fila\n",
    "\n",
    "        # Extraer datos del cluster, cantidad y porcentaje\n",
    "        parts = line.split()\n",
    "        cluster = parts[0]\n",
    "        cantidad = parts[1]\n",
    "        porcentaje = parts[2]\n",
    "    elif line:  # Si la línea contiene palabras clave\n",
    "        palabras_clave.append(line)  # Agregar las palabras clave a la lista\n",
    "\n",
    "# Añadir la última fila de datos al finalizar\n",
    "if palabras_clave:\n",
    "    data.append([cluster, cantidad, porcentaje, ' '.join(palabras_clave)])\n",
    "\n",
    "# Mostrar los resultados con nombres genéricos de columnas\n",
    "for i, row in enumerate(data):\n",
    "    print(f\"Fila {i+1}: A={row[0]}, B={row[1]}, C={row[2]}, D={row[3]}\")\n"
   ]
  }
 ],
 "metadata": {
  "kernelspec": {
   "display_name": ".venv",
   "language": "python",
   "name": "python3"
  },
  "language_info": {
   "codemirror_mode": {
    "name": "ipython",
    "version": 3
   },
   "file_extension": ".py",
   "mimetype": "text/x-python",
   "name": "python",
   "nbconvert_exporter": "python",
   "pygments_lexer": "ipython3",
   "version": "3.9.6"
  }
 },
 "nbformat": 4,
 "nbformat_minor": 2
}
